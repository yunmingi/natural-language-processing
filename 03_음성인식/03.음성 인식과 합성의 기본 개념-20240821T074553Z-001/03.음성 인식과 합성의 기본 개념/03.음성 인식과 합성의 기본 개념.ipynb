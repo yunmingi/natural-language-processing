{
 "cells": [
  {
   "cell_type": "markdown",
   "id": "a3bebf2b-3832-4f85-8445-3ab849cf654f",
   "metadata": {},
   "source": [
    "# 음성 인식과 음성 합성\n",
    "    음성 인식 및 합성은 현재 AI 기술의 중요한 응용 분야\n",
    "\n",
    "    음성 인식은 ASR(Automatic Speech Recognition)을 의미\n",
    "    음성 합성은 TTS(Text-to-Speech)를 의미\n",
    "\n",
    "## 음성 인식 개요 (ASR: Automatic Speech Recognition)\n",
    "    원리와 과정\n",
    "        음성 수집\n",
    "            마이크를 통해 음성 데이터를 수집\n",
    "        전처리\n",
    "            잡음 제거, 음량 조정 등 신호를 처리하여 분석하기 적합한 형태로 만듦\n",
    "        특징 추출\n",
    "            MFCC(Mel Frequency Cepstral Coefficients)와 같은 음성의 특징을 추출\n",
    "        음향 모델\n",
    "            음성 데이터를 음소 단위로 변환(예: HMM-GMM, 딥러닝 기반 모델)\n",
    "        언어 모델\n",
    "            음소 단위의 데이터를 단어와 문장으로 변환\n",
    "        디코딩\n",
    "            최종적으로 인식된 텍스트를 생성\n",
    "\n",
    "## 음성 합성 개요 (TTS: Text-to-Speech)\n",
    "    원리와 과정\n",
    "        텍스트 입력\n",
    "            변환하고자 하는 텍스트를 입력 받음\n",
    "        텍스트 분석\n",
    "            텍스트를 분석하여 발음 기호로 변환(예: 음소 변환)\n",
    "        음향 모델\n",
    "            발음 기호를 음성 신호로 변환(예: 규칙 기반, 통계적 모델, 딥러닝 기반 모델)\n",
    "        신호 생성\n",
    "            최종 음성 신호를 생성하여 출력\n",
    "\n",
    "### 음성 인식 모델\n",
    "    HMM-GMM (Hidden Markov Model - Gaussian Mixture Model)\n",
    "        HMM-GMM은 전통적인 음성 인식 모델로, 음성 신호의 시간적 변화를 모델링\n",
    "        HMM은 시간에 따른 상태 변화를 모델링\n",
    "        GMM은 각 상태에서의 출력 분포를 모델링\n",
    "    \n",
    "    딥러닝 기반 모델\n",
    "        RNN(Recurrent Neural Networks)\n",
    "        LSTM(Long Short-Term Memory)\n",
    "        Transformer\n",
    "        신경망을 사용하여 음성 인식을 수행\n",
    "        더 복잡한 패턴을 학습할 수 있어 성능이 뛰어남\n",
    "    \n",
    "### 음성 합성 모델\n",
    "    규칙 기반 모델\n",
    "        규칙 기반 모델은 발음 규칙과 합성 규칙을 사용하여 텍스트를 음성으로 변환\n",
    "\n",
    "    통계적 모델\n",
    "        통계적 모델은 대규모 음성 데이터에서 학습된 통계적 정보를 사용하여 음성을 생성\n",
    "        대표적으로 HMM 기반 TTS가 있음\n",
    "\n",
    "    딥러닝 기반 모델\n",
    "        딥러닝 기반 모델은 신경망을 사용하여 텍스트를 음성으로 변환\n",
    "        대표적으로 Tacotron, WaveNet 등이 있음"
   ]
  },
  {
   "cell_type": "code",
   "execution_count": 1,
   "id": "6b3ee3f4-00d7-4067-8e03-a868d54d8e0c",
   "metadata": {},
   "outputs": [],
   "source": [
    "#!pip install SpeechRecognition"
   ]
  },
  {
   "cell_type": "markdown",
   "id": "9717388b-516c-4fbb-b87c-5bc307b8084a",
   "metadata": {},
   "source": [
    "#### 간단한 음성 인식 구현 (Python 라이브러리 활용)"
   ]
  },
  {
   "cell_type": "code",
   "execution_count": 2,
   "id": "fd5b5faa-f206-4e8e-a0ec-07694e76e8c1",
   "metadata": {},
   "outputs": [
    {
     "name": "stdout",
     "output_type": "stream",
     "text": [
      "Recognized Text: 완전 예쁘십니다\n"
     ]
    }
   ],
   "source": [
    "import speech_recognition as sr\n",
    "\n",
    "# 음성 인식 객체 생성\n",
    "recognizer = sr.Recognizer()\n",
    "\n",
    "# 오디오 파일 로드\n",
    "# audio_file = 'common_voice_ko_38203273.wav'  # 음성 인식 실패\n",
    "audio_file = 'filtered_common_voice_ko_38203273.wav' # 필터링된 음성은 인식 성공\n",
    "try:\n",
    "    with sr.AudioFile(audio_file) as source:\n",
    "        audio_data = recognizer.record(source)\n",
    "    \n",
    "    # 음성 인식 수행\n",
    "    try:\n",
    "        text = recognizer.recognize_google(audio_data, language=\"ko-KR\")\n",
    "        print(\"Recognized Text:\", text)\n",
    "    except sr.UnknownValueError:\n",
    "        print(\"Google Speech Recognition could not understand audio\")\n",
    "    except sr.RequestError as e:\n",
    "        print(f\"Could not request results from Google Speech Recognition service; {e}\")\n",
    "except Exception as e:\n",
    "    print(f\"Error loading audio file: {e}\")\n"
   ]
  },
  {
   "cell_type": "code",
   "execution_count": 3,
   "id": "db95e2a8-9388-4d1c-9d12-45efce7f19f6",
   "metadata": {},
   "outputs": [
    {
     "name": "stdout",
     "output_type": "stream",
     "text": [
      "Requirement already satisfied: pyttsx3 in c:\\users\\ruru\\anaconda3\\envs\\newbase\\lib\\site-packages (2.90)\n",
      "Requirement already satisfied: comtypes in c:\\users\\ruru\\anaconda3\\envs\\newbase\\lib\\site-packages (from pyttsx3) (1.4.6)\n",
      "Requirement already satisfied: pypiwin32 in c:\\users\\ruru\\anaconda3\\envs\\newbase\\lib\\site-packages (from pyttsx3) (223)\n",
      "Requirement already satisfied: pywin32 in c:\\users\\ruru\\anaconda3\\envs\\newbase\\lib\\site-packages (from pyttsx3) (305.1)\n"
     ]
    }
   ],
   "source": [
    "!pip install pyttsx3"
   ]
  },
  {
   "cell_type": "markdown",
   "id": "3ed11963-9642-4ac1-9edb-9ccecabbf559",
   "metadata": {},
   "source": [
    "#### 간단한 음성 합성 구현 (Python 라이브러리 활용)"
   ]
  },
  {
   "cell_type": "code",
   "execution_count": 4,
   "id": "11fbb9ae-8873-46f2-bdac-1d25a43b30de",
   "metadata": {},
   "outputs": [],
   "source": [
    "import pyttsx3\n",
    "\n",
    "# 음성 합성 객체 생성\n",
    "engine = pyttsx3.init()\n",
    "\n",
    "# 텍스트 설정\n",
    "text = \"안녕하세요, 파이썬을 사용한 음성 합성 예제입니다.\"\n",
    "\n",
    "# 음성 합성 수행\n",
    "engine.say(text)\n",
    "engine.runAndWait()\n"
   ]
  },
  {
   "cell_type": "markdown",
   "id": "1b085d8b-d886-468d-aa56-28911354aa7d",
   "metadata": {},
   "source": [
    "#### 음성 인식 및 합성 라이브러리 활용 예제\n",
    "     speech_recognition 라이브러리로 음성 인 함수 구현\n",
    "     pyttsx3 라이브러리로 음성 합 함수 구현on)"
   ]
  },
  {
   "cell_type": "code",
   "execution_count": 5,
   "id": "e2641f99-407c-421a-8e6e-786a0142bdc4",
   "metadata": {},
   "outputs": [
    {
     "name": "stdout",
     "output_type": "stream",
     "text": [
      "Recognized Text: 완전 예쁘십니다\n"
     ]
    }
   ],
   "source": [
    "import speech_recognition as sr\n",
    "\n",
    "def recognize_speech_from_file(file_path):\n",
    "    recognizer = sr.Recognizer()\n",
    "    with sr.AudioFile(file_path) as source:\n",
    "        audio_data = recognizer.record(source)\n",
    "        try:\n",
    "            text = recognizer.recognize_google(audio_data, language=\"ko-KR\")\n",
    "            return text\n",
    "        except sr.UnknownValueError:\n",
    "            return \"Google Speech Recognition could not understand audio\"\n",
    "        except sr.RequestError as e:\n",
    "            return f\"Could not request results; {e}\"\n",
    "\n",
    "file_path = \"filtered_common_voice_ko_38203273.wav\"\n",
    "recognized_text = recognize_speech_from_file(file_path)\n",
    "print(\"Recognized Text:\", recognized_text)\n"
   ]
  },
  {
   "cell_type": "code",
   "execution_count": 6,
   "id": "5e2fdc29-ff4d-486a-91f4-46b1d166e7fa",
   "metadata": {},
   "outputs": [],
   "source": [
    "import pyttsx3\n",
    "\n",
    "def synthesize_text_to_speech(text):\n",
    "    engine = pyttsx3.init()\n",
    "    engine.say(text)\n",
    "    engine.runAndWait()\n",
    "\n",
    "text = \"안녕하세요, 파이썬을 사용한 음성 합성 예제입니다.\"\n",
    "synthesize_text_to_speech(text)\n"
   ]
  }
 ],
 "metadata": {
  "kernelspec": {
   "display_name": "Python 3 (ipykernel)",
   "language": "python",
   "name": "python3"
  },
  "language_info": {
   "codemirror_mode": {
    "name": "ipython",
    "version": 3
   },
   "file_extension": ".py",
   "mimetype": "text/x-python",
   "name": "python",
   "nbconvert_exporter": "python",
   "pygments_lexer": "ipython3",
   "version": "3.9.12"
  }
 },
 "nbformat": 4,
 "nbformat_minor": 5
}
